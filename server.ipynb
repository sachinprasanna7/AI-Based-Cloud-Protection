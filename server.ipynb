{
 "cells": [
  {
   "cell_type": "markdown",
   "metadata": {},
   "source": [
    "# Importing Libraries"
   ]
  },
  {
   "cell_type": "code",
   "execution_count": 1,
   "metadata": {},
   "outputs": [],
   "source": [
    "import joblib\n",
    "import numpy as np\n",
    "from flask import Flask, request, jsonify"
   ]
  },
  {
   "cell_type": "code",
   "execution_count": 2,
   "metadata": {},
   "outputs": [],
   "source": [
    "rfe_selector = joblib.load('Models/rfe_selector.pkl')\n",
    "gb_model = joblib.load('Models/gradient_boosting.pkl')"
   ]
  },
  {
   "cell_type": "code",
   "execution_count": 3,
   "metadata": {},
   "outputs": [],
   "source": [
    "attack_mapping = {\n",
    "    1: 'MITM', 2: 'Fingerprinting', 3: 'Ransomware', 4: 'Uploading',\n",
    "    5: 'SQL_injection', 6: 'DDoS_HTTP', 7: 'DDoS_TCP', 8: 'Password',\n",
    "    9: 'Port_Scanning', 10: 'Vulnerability_scanner', 11: 'Backdoor',\n",
    "    12: 'XSS', 13: 'Normal', 14: 'DDoS_UDP', 15: 'DDoS_ICMP'\n",
    "}"
   ]
  },
  {
   "cell_type": "code",
   "execution_count": 4,
   "metadata": {},
   "outputs": [],
   "source": [
    "app = Flask(__name__)"
   ]
  },
  {
   "cell_type": "code",
   "execution_count": 5,
   "metadata": {},
   "outputs": [
    {
     "name": "stdout",
     "output_type": "stream",
     "text": [
      " * Serving Flask app '__main__'\n",
      " * Debug mode: on\n"
     ]
    },
    {
     "name": "stderr",
     "output_type": "stream",
     "text": [
      "WARNING: This is a development server. Do not use it in a production deployment. Use a production WSGI server instead.\n",
      " * Running on http://127.0.0.1:5000\n",
      "Press CTRL+C to quit\n",
      " * Restarting with stat\n"
     ]
    },
    {
     "ename": "SystemExit",
     "evalue": "1",
     "output_type": "error",
     "traceback": [
      "An exception has occurred, use %tb to see the full traceback.\n",
      "\u001b[1;31mSystemExit\u001b[0m\u001b[1;31m:\u001b[0m 1\n"
     ]
    },
    {
     "name": "stderr",
     "output_type": "stream",
     "text": [
      "c:\\Users\\Pdogg Windows10\\Desktop\\Semester 8\\IT418 - Cloud Computing\\Project_Code\\cloud\\lib\\site-packages\\IPython\\core\\interactiveshell.py:3558: UserWarning: To exit: use 'exit', 'quit', or Ctrl-D.\n",
      "  warn(\"To exit: use 'exit', 'quit', or Ctrl-D.\", stacklevel=1)\n"
     ]
    }
   ],
   "source": [
    "@app.route('/predict', methods=['POST'])\n",
    "def predict_attack():\n",
    "    try:\n",
    "        data = request.get_json()\n",
    "        features = data.get(\"features\", [])\n",
    "\n",
    "        if not features or len(features) != 34:\n",
    "            return jsonify({\"error\": \"Invalid or missing input. Expecting 34 features.\"}), 400\n",
    "\n",
    "        # Convert to NumPy array and reshape to (1, 34)\n",
    "        X_new = np.array(features, dtype=np.float64).reshape(1, -1)\n",
    "\n",
    "        # Apply RFE to select features\n",
    "        X_selected = rfe_selector.transform(X_new)\n",
    "\n",
    "        # Predict attack type\n",
    "        prediction = int(gb_model.predict(X_selected)[0])\n",
    "        attack_name = attack_mapping.get(prediction, \"Unknown\")\n",
    "\n",
    "        return jsonify({\n",
    "            \"prediction\": prediction,\n",
    "            \"attack_type\": attack_name\n",
    "        })\n",
    "\n",
    "    except Exception as e:\n",
    "        return jsonify({\"error\": str(e)}), 500\n",
    "\n",
    "if __name__ == '__main__':\n",
    "    app.run(debug=True)"
   ]
  }
 ],
 "metadata": {
  "kernelspec": {
   "display_name": "cloud",
   "language": "python",
   "name": "python3"
  },
  "language_info": {
   "codemirror_mode": {
    "name": "ipython",
    "version": 3
   },
   "file_extension": ".py",
   "mimetype": "text/x-python",
   "name": "python",
   "nbconvert_exporter": "python",
   "pygments_lexer": "ipython3",
   "version": "3.9.0"
  }
 },
 "nbformat": 4,
 "nbformat_minor": 2
}
